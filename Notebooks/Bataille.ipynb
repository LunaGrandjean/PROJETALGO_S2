{
 "cells": [
  {
   "cell_type": "code",
   "execution_count": 1,
   "id": "b00a0501",
   "metadata": {},
   "outputs": [
    {
     "ename": "ModuleNotFoundError",
     "evalue": "No module named 'classes_cartes_bataille'",
     "output_type": "error",
     "traceback": [
      "\u001b[1;31m---------------------------------------------------------------------------\u001b[0m",
      "\u001b[1;31mModuleNotFoundError\u001b[0m                       Traceback (most recent call last)",
      "\u001b[1;32m~\\AppData\\Local\\Temp\\ipykernel_26716\\3348807975.py\u001b[0m in \u001b[0;36m<module>\u001b[1;34m\u001b[0m\n\u001b[1;32m----> 1\u001b[1;33m \u001b[1;32mfrom\u001b[0m \u001b[0mbataille_classes\u001b[0m \u001b[1;32mimport\u001b[0m \u001b[1;33m*\u001b[0m\u001b[1;33m\u001b[0m\u001b[1;33m\u001b[0m\u001b[0m\n\u001b[0m",
      "\u001b[1;32m~\\OneDrive\\IA Institut\\2ème année\\Algorithmique\\Projet semaine 2\\Bataille\\bataille_classes.py\u001b[0m in \u001b[0;36m<module>\u001b[1;34m\u001b[0m\n\u001b[0;32m      2\u001b[0m \u001b[1;32mfrom\u001b[0m \u001b[0mlistes\u001b[0m \u001b[1;32mimport\u001b[0m \u001b[0mliste_vide\u001b[0m\u001b[1;33m,\u001b[0m \u001b[0mcellule\u001b[0m\u001b[1;33m,\u001b[0m \u001b[0mtête\u001b[0m\u001b[1;33m,\u001b[0m \u001b[0mqueue\u001b[0m\u001b[1;33m,\u001b[0m \u001b[0mest_vide\u001b[0m\u001b[1;33m\u001b[0m\u001b[1;33m\u001b[0m\u001b[0m\n\u001b[0;32m      3\u001b[0m \u001b[1;32mfrom\u001b[0m \u001b[0mpiles\u001b[0m \u001b[1;32mimport\u001b[0m \u001b[0mPile\u001b[0m\u001b[1;33m\u001b[0m\u001b[1;33m\u001b[0m\u001b[0m\n\u001b[1;32m----> 4\u001b[1;33m \u001b[1;32mfrom\u001b[0m \u001b[0mclasses_cartes_bataille\u001b[0m \u001b[1;32mimport\u001b[0m \u001b[0mCarte\u001b[0m\u001b[1;33m,\u001b[0m \u001b[0mJoueurIA\u001b[0m\u001b[1;33m,\u001b[0m \u001b[0mPaquet\u001b[0m\u001b[1;33m\u001b[0m\u001b[1;33m\u001b[0m\u001b[0m\n\u001b[0m\u001b[0;32m      5\u001b[0m \u001b[1;33m\u001b[0m\u001b[0m\n\u001b[0;32m      6\u001b[0m \u001b[1;32mclass\u001b[0m \u001b[0mBataille\u001b[0m\u001b[1;33m:\u001b[0m\u001b[1;33m\u001b[0m\u001b[1;33m\u001b[0m\u001b[0m\n",
      "\u001b[1;31mModuleNotFoundError\u001b[0m: No module named 'classes_cartes_bataille'"
     ]
    }
   ],
   "source": [
    "from bataille_classes import *\n"
   ]
  },
  {
   "cell_type": "code",
   "execution_count": null,
   "id": "0041d0da",
   "metadata": {},
   "outputs": [],
   "source": [
    "paquet = Paquet()\n",
    "paquet.melange()  # Mélange le paquet avant de distribuer les cartes.\n",
    "\n",
    "joueur_ia = JoueurIA(\"Robot\")\n",
    "joueur_ia.main = Main(paquet.distribue(5))  # Distribue 5 cartes au joueur IA.\n",
    "\n",
    "# Affiche les cartes dans la main du joueur IA\n",
    "print(joueur_ia.main.afficher())\n",
    "\n",
    "# Si on souhaîte lancer une partie automatique :\n",
    "jeu = Bataille()\n",
    "jeu.jouer()\n"
   ]
  },
  {
   "cell_type": "code",
   "execution_count": null,
   "id": "8ee810bb",
   "metadata": {},
   "outputs": [],
   "source": []
  }
 ],
 "metadata": {
  "kernelspec": {
   "display_name": "Python 3 (ipykernel)",
   "language": "python",
   "name": "python3"
  },
  "language_info": {
   "codemirror_mode": {
    "name": "ipython",
    "version": 3
   },
   "file_extension": ".py",
   "mimetype": "text/x-python",
   "name": "python",
   "nbconvert_exporter": "python",
   "pygments_lexer": "ipython3",
   "version": "3.9.13"
  }
 },
 "nbformat": 4,
 "nbformat_minor": 5
}
