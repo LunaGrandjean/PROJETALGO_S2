{
 "cells": [
  {
   "cell_type": "code",
   "execution_count": null,
   "id": "442e7731",
   "metadata": {
    "scrolled": true
   },
   "outputs": [],
   "source": [
    "from jeu_black_jack import *\n",
    "from strategie_black_jack import StrategieBlackjack"
   ]
  },
  {
   "cell_type": "code",
   "execution_count": null,
   "id": "88f1ddd3",
   "metadata": {
    "scrolled": true
   },
   "outputs": [],
   "source": [
    "joueur1 = Joueur(\"Joueur 1\")\n",
    "croupier = JoueurIA(\"Croupier\")\n",
    "jeu = BlackJack(joueur1, croupier)\n",
    "jeu.jouer()\n"
   ]
  },
  {
   "cell_type": "code",
   "execution_count": null,
   "id": "5aae1325",
   "metadata": {},
   "outputs": [],
   "source": []
  }
 ],
 "metadata": {
  "kernelspec": {
   "display_name": "Python 3 (ipykernel)",
   "language": "python",
   "name": "python3"
  },
  "language_info": {
   "codemirror_mode": {
    "name": "ipython",
    "version": 3
   },
   "file_extension": ".py",
   "mimetype": "text/x-python",
   "name": "python",
   "nbconvert_exporter": "python",
   "pygments_lexer": "ipython3",
   "version": "3.9.13"
  }
 },
 "nbformat": 4,
 "nbformat_minor": 5
}
