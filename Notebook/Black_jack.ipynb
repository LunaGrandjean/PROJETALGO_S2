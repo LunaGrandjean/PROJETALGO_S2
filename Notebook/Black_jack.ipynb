{
 "cells": [
  {
   "cell_type": "code",
   "execution_count": 2,
   "id": "442e7731",
   "metadata": {
    "scrolled": true
   },
   "outputs": [
    {
     "ename": "ModuleNotFoundError",
     "evalue": "No module named 'classes_cartes'",
     "output_type": "error",
     "traceback": [
      "\u001b[1;31m---------------------------------------------------------------------------\u001b[0m",
      "\u001b[1;31mModuleNotFoundError\u001b[0m                       Traceback (most recent call last)",
      "\u001b[1;32m~\\AppData\\Local\\Temp\\ipykernel_22472\\1576894370.py\u001b[0m in \u001b[0;36m<module>\u001b[1;34m\u001b[0m\n\u001b[1;32m----> 1\u001b[1;33m \u001b[1;32mfrom\u001b[0m \u001b[0mjeu_black_jack\u001b[0m \u001b[1;32mimport\u001b[0m \u001b[1;33m*\u001b[0m\u001b[1;33m\u001b[0m\u001b[1;33m\u001b[0m\u001b[0m\n\u001b[0m\u001b[0;32m      2\u001b[0m \u001b[1;32mfrom\u001b[0m \u001b[0mstrategie_black_jack\u001b[0m \u001b[1;32mimport\u001b[0m \u001b[0mStrategieBlackjack\u001b[0m\u001b[1;33m\u001b[0m\u001b[1;33m\u001b[0m\u001b[0m\n",
      "\u001b[1;32m~\\OneDrive\\IA Institut\\2ème année\\Algorithmique\\Projet semaine 2\\Black Jack\\jeu_black_jack.py\u001b[0m in \u001b[0;36m<module>\u001b[1;34m\u001b[0m\n\u001b[0;32m      1\u001b[0m \u001b[1;32mfrom\u001b[0m \u001b[0mlistes\u001b[0m \u001b[1;32mimport\u001b[0m \u001b[0mliste_vide\u001b[0m\u001b[1;33m,\u001b[0m \u001b[0mcellule\u001b[0m\u001b[1;33m,\u001b[0m \u001b[0mtête\u001b[0m\u001b[1;33m,\u001b[0m \u001b[0mqueue\u001b[0m\u001b[1;33m,\u001b[0m \u001b[0mest_vide\u001b[0m\u001b[1;33m\u001b[0m\u001b[1;33m\u001b[0m\u001b[0m\n\u001b[0;32m      2\u001b[0m \u001b[1;32mfrom\u001b[0m \u001b[0mpiles\u001b[0m \u001b[1;32mimport\u001b[0m \u001b[0mPile\u001b[0m\u001b[1;33m\u001b[0m\u001b[1;33m\u001b[0m\u001b[0m\n\u001b[1;32m----> 3\u001b[1;33m \u001b[1;32mfrom\u001b[0m \u001b[0mclasses_cartes\u001b[0m \u001b[1;32mimport\u001b[0m \u001b[0mPaquet\u001b[0m\u001b[1;33m,\u001b[0m \u001b[0mMain\u001b[0m\u001b[1;33m,\u001b[0m \u001b[0mJoueur\u001b[0m\u001b[1;33m,\u001b[0m \u001b[0mJoueurIA\u001b[0m\u001b[1;33m\u001b[0m\u001b[1;33m\u001b[0m\u001b[0m\n\u001b[0m\u001b[0;32m      4\u001b[0m \u001b[1;33m\u001b[0m\u001b[0m\n\u001b[0;32m      5\u001b[0m \u001b[1;32mclass\u001b[0m \u001b[0mBlackJack\u001b[0m\u001b[1;33m:\u001b[0m\u001b[1;33m\u001b[0m\u001b[1;33m\u001b[0m\u001b[0m\n",
      "\u001b[1;31mModuleNotFoundError\u001b[0m: No module named 'classes_cartes'"
     ]
    }
   ],
   "source": [
    "from jeu_black_jack import *\n",
    "from strategie_black_jack import StrategieBlackjack"
   ]
  },
  {
   "cell_type": "code",
   "execution_count": 3,
   "id": "88f1ddd3",
   "metadata": {
    "scrolled": true
   },
   "outputs": [
    {
     "ename": "NameError",
     "evalue": "name 'Joueur' is not defined",
     "output_type": "error",
     "traceback": [
      "\u001b[1;31m---------------------------------------------------------------------------\u001b[0m",
      "\u001b[1;31mNameError\u001b[0m                                 Traceback (most recent call last)",
      "\u001b[1;32m~\\AppData\\Local\\Temp\\ipykernel_22472\\2750729591.py\u001b[0m in \u001b[0;36m<module>\u001b[1;34m\u001b[0m\n\u001b[1;32m----> 1\u001b[1;33m \u001b[0mjoueur1\u001b[0m \u001b[1;33m=\u001b[0m \u001b[0mJoueur\u001b[0m\u001b[1;33m(\u001b[0m\u001b[1;34m\"Joueur 1\"\u001b[0m\u001b[1;33m)\u001b[0m\u001b[1;33m\u001b[0m\u001b[1;33m\u001b[0m\u001b[0m\n\u001b[0m\u001b[0;32m      2\u001b[0m \u001b[0mcroupier\u001b[0m \u001b[1;33m=\u001b[0m \u001b[0mJoueurIA\u001b[0m\u001b[1;33m(\u001b[0m\u001b[1;34m\"Croupier\"\u001b[0m\u001b[1;33m)\u001b[0m\u001b[1;33m\u001b[0m\u001b[1;33m\u001b[0m\u001b[0m\n\u001b[0;32m      3\u001b[0m \u001b[0mjeu\u001b[0m \u001b[1;33m=\u001b[0m \u001b[0mBlackJack\u001b[0m\u001b[1;33m(\u001b[0m\u001b[0mjoueur1\u001b[0m\u001b[1;33m,\u001b[0m \u001b[0mcroupier\u001b[0m\u001b[1;33m)\u001b[0m\u001b[1;33m\u001b[0m\u001b[1;33m\u001b[0m\u001b[0m\n\u001b[0;32m      4\u001b[0m \u001b[0mjeu\u001b[0m\u001b[1;33m.\u001b[0m\u001b[0mjouer\u001b[0m\u001b[1;33m(\u001b[0m\u001b[1;33m)\u001b[0m\u001b[1;33m\u001b[0m\u001b[1;33m\u001b[0m\u001b[0m\n",
      "\u001b[1;31mNameError\u001b[0m: name 'Joueur' is not defined"
     ]
    }
   ],
   "source": [
    "joueur1 = Joueur(\"Joueur 1\")\n",
    "croupier = JoueurIA(\"Croupier\")\n",
    "jeu = BlackJack(joueur1, croupier)\n",
    "jeu.jouer()\n"
   ]
  },
  {
   "cell_type": "code",
   "execution_count": null,
   "id": "5aae1325",
   "metadata": {},
   "outputs": [],
   "source": []
  }
 ],
 "metadata": {
  "kernelspec": {
   "display_name": "Python 3 (ipykernel)",
   "language": "python",
   "name": "python3"
  },
  "language_info": {
   "codemirror_mode": {
    "name": "ipython",
    "version": 3
   },
   "file_extension": ".py",
   "mimetype": "text/x-python",
   "name": "python",
   "nbconvert_exporter": "python",
   "pygments_lexer": "ipython3",
   "version": "3.9.13"
  }
 },
 "nbformat": 4,
 "nbformat_minor": 5
}
